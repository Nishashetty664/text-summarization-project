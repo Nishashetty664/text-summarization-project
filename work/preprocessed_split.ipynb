{
 "cells": [
  {
   "cell_type": "code",
   "execution_count": 2,
   "id": "bec8883e-f0a7-498f-ab58-a264de10c5b5",
   "metadata": {},
   "outputs": [
    {
     "name": "stderr",
     "output_type": "stream",
     "text": [
      "[nltk_data] Downloading package punkt to\n",
      "[nltk_data]     C:\\Users\\shett\\AppData\\Roaming\\nltk_data...\n",
      "[nltk_data]   Package punkt is already up-to-date!\n",
      "[nltk_data] Downloading package stopwords to\n",
      "[nltk_data]     C:\\Users\\shett\\AppData\\Roaming\\nltk_data...\n",
      "[nltk_data]   Package stopwords is already up-to-date!\n",
      "[nltk_data] Downloading package wordnet to\n",
      "[nltk_data]     C:\\Users\\shett\\AppData\\Roaming\\nltk_data...\n",
      "[nltk_data]   Package wordnet is already up-to-date!\n",
      "100%|█████████████████████████████████████████████████████████████████████████████████████████| 11490/11490 [03:21<00:00, 57.11it/s]\n",
      "100%|████████████████████████████████████████████████████████████████████████████████████████| 11490/11490 [00:22<00:00, 518.42it/s]\n"
     ]
    }
   ],
   "source": [
    "import pandas as pd\n",
    "import nltk\n",
    "from nltk.corpus import stopwords\n",
    "from nltk.tokenize import word_tokenize\n",
    "from nltk.stem import WordNetLemmatizer\n",
    "from nltk.stem import PorterStemmer\n",
    "import string\n",
    "from tqdm import tqdm\n",
    "\n",
    "nltk.download('punkt')\n",
    "nltk.download('stopwords')\n",
    "nltk.download('wordnet')\n",
    "\n",
    "# Load the dataset\n",
    "dataset = pd.read_csv('test.csv')\n",
    "\n",
    "# Initialize stemmer and lemmatizer\n",
    "stemmer = PorterStemmer()\n",
    "lemmatizer = WordNetLemmatizer()\n",
    "\n",
    "# Function to clean text\n",
    "def clean_text(text):\n",
    "    # Remove punctuation\n",
    "    text = text.translate(str.maketrans('', '', string.punctuation))\n",
    "    # Convert to lowercase\n",
    "    text = text.lower()\n",
    "    # Remove stopwords\n",
    "    stop_words = set(stopwords.words('english'))\n",
    "    words = word_tokenize(text)\n",
    "    filtered_words = [word for word in words if word not in stop_words]\n",
    "    # Lemmatization\n",
    "    lemmatized_words = [lemmatizer.lemmatize(word) for word in filtered_words]\n",
    "    # Stemming\n",
    "    stemmed_words = [stemmer.stem(word) for word in lemmatized_words]\n",
    "    return ' '.join(stemmed_words)\n",
    "\n",
    "# Apply cleaning to 'article' and 'highlights' columns\n",
    "tqdm.pandas()\n",
    "dataset['cleaned_article'] = dataset['article'].progress_apply(clean_text)\n",
    "dataset['cleaned_highlights'] = dataset['highlights'].progress_apply(clean_text)\n",
    "\n",
    "# Select only the 'id', 'cleaned_article', and 'cleaned_highlights' columns\n",
    "cleaned_dataset = dataset[['id', 'cleaned_article', 'cleaned_highlights']]\n",
    "\n",
    "# Save the preprocessed dataset to a new CSV file\n",
    "cleaned_dataset.to_csv('preprocessed_data.csv', index=False)\n"
   ]
  },
  {
   "cell_type": "code",
   "execution_count": 4,
   "id": "75abed40-68fb-4719-8062-bdd4ec0800bc",
   "metadata": {},
   "outputs": [],
   "source": [
    "from sklearn.model_selection import train_test_split\n",
    "\n",
    "# Load the preprocessed dataset\n",
    "cleaned_dataset = pd.read_csv('preprocessed_data.csv')\n",
    "\n",
    "# Split the dataset into train_split, test_split, and validate_split\n",
    "train_split, test_split = train_test_split(cleaned_dataset, test_size=0.2, random_state=42)\n",
    "train_split, validate_split = train_test_split(train_split, test_size=0.25, random_state=42)\n",
    "\n",
    "# Save the train_split, test_split, and validate_split to CSV files\n",
    "train_split.to_csv('train_split.csv', index=False)\n",
    "test_split.to_csv('test_split.csv', index=False)\n",
    "validate_split.to_csv('validate_split.csv', index=False)\n"
   ]
  },
  {
   "cell_type": "code",
   "execution_count": 5,
   "id": "0478ddcf-5e70-4057-acfe-45e1d2bb4916",
   "metadata": {},
   "outputs": [
    {
     "name": "stdout",
     "output_type": "stream",
     "text": [
      "Number of rows in original dataset: 11490\n",
      "Number of rows in train_split: 6894\n",
      "Number of rows in test_split: 2298\n",
      "Number of rows in validate_split: 2298\n"
     ]
    }
   ],
   "source": [
    "# Check the number of rows in each split\n",
    "print(\"Number of rows in original dataset:\", len(cleaned_dataset))\n",
    "print(\"Number of rows in train_split:\", len(train_split))\n",
    "print(\"Number of rows in test_split:\", len(test_split))\n",
    "print(\"Number of rows in validate_split:\", len(validate_split))\n"
   ]
  },
  {
   "cell_type": "code",
   "execution_count": null,
   "id": "5ca3334c-e03f-4e97-913c-cc361b345164",
   "metadata": {},
   "outputs": [],
   "source": []
  }
 ],
 "metadata": {
  "kernelspec": {
   "display_name": "Python 3 (ipykernel)",
   "language": "python",
   "name": "python3"
  },
  "language_info": {
   "codemirror_mode": {
    "name": "ipython",
    "version": 3
   },
   "file_extension": ".py",
   "mimetype": "text/x-python",
   "name": "python",
   "nbconvert_exporter": "python",
   "pygments_lexer": "ipython3",
   "version": "3.12.3"
  }
 },
 "nbformat": 4,
 "nbformat_minor": 5
}
