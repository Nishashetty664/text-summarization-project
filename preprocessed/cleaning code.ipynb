{
 "cells": [
  {
   "cell_type": "code",
   "execution_count": 1,
   "id": "c57ed7c6-5cfc-4e86-8ebf-724b03bbb507",
   "metadata": {},
   "outputs": [
    {
     "name": "stdout",
     "output_type": "stream",
     "text": [
      "article_length_bin\n",
      "1    1150\n",
      "6    1150\n",
      "8    1150\n",
      "0    1149\n",
      "3    1149\n",
      "4    1149\n",
      "5    1149\n",
      "2    1149\n",
      "9    1148\n",
      "7    1147\n",
      "Name: count, dtype: int64\n",
      "article_length_bin\n",
      "1    601\n",
      "6    601\n",
      "4    600\n",
      "8    600\n",
      "3    600\n",
      "5    600\n",
      "0    600\n",
      "2    600\n",
      "9    599\n",
      "7    599\n",
      "Name: count, dtype: int64\n"
     ]
    }
   ],
   "source": [
    "import pandas as pd\n",
    "from sklearn.model_selection import train_test_split\n",
    "\n",
    "# Load the dataset\n",
    "data = pd.read_csv('test.csv')\n",
    "\n",
    "# Create a feature for stratification (e.g., length of the articles)\n",
    "data['article_length'] = data['article'].apply(len)\n",
    "\n",
    "# Use quantiles to create bins\n",
    "data['article_length_bin'] = pd.qcut(data['article_length'], q=10, labels=False)\n",
    "\n",
    "# Perform stratified sampling\n",
    "reduced_data, _ = train_test_split(data, train_size=6000, stratify=data['article_length_bin'], random_state=42)\n",
    "\n",
    "# Verify the distribution to ensure it remains consistent\n",
    "print(data['article_length_bin'].value_counts())\n",
    "print(reduced_data['article_length_bin'].value_counts())\n",
    "\n",
    "# Save the reduced dataset to a new CSV file\n",
    "reduced_data.to_csv('reduced_test.csv', index=False)\n"
   ]
  },
  {
   "cell_type": "code",
   "execution_count": 2,
   "id": "781d3802-7d14-4b40-a573-33ef9beaa92a",
   "metadata": {},
   "outputs": [
    {
     "name": "stdout",
     "output_type": "stream",
     "text": [
      "Total number of records in the reduced train.csv file: 6000\n"
     ]
    }
   ],
   "source": [
    "import pandas as pd\n",
    "\n",
    "# Load the reduced train.csv file\n",
    "reduced_data = pd.read_csv('reduced_test.csv')\n",
    "\n",
    "# Count the total number of records\n",
    "total_records = len(reduced_data)\n",
    "\n",
    "print(f\"Total number of records in the reduced train.csv file: {total_records}\")\n"
   ]
  },
  {
   "cell_type": "code",
   "execution_count": null,
   "id": "6b9cc981-6327-4810-b5a0-a45cfa9914bd",
   "metadata": {},
   "outputs": [
    {
     "name": "stderr",
     "output_type": "stream",
     "text": [
      "Writing input data: 100%|███████████████████████████████████████████████████████| 6000/6000 [00:00<00:00, 39822.49it/s]\n",
      "Processing and writing cleaned data:  16%|██████▋                                  | 971/6000 [00:04<00:20, 247.03it/s]"
     ]
    }
   ],
   "source": [
    "import pandas as pd\n",
    "import re\n",
    "import nltk\n",
    "from nltk.tokenize import word_tokenize\n",
    "from nltk.corpus import stopwords\n",
    "from tqdm import tqdm  # For progress bar\n",
    "\n",
    "# Uncomment the downloads if needed\n",
    "# nltk.download('punkt')\n",
    "# nltk.download('stopwords')\n",
    "\n",
    "def clean_text(text):\n",
    "    # Remove special characters and junk using regex\n",
    "    text = re.sub(r'[^a-zA-Z0-9\\s]', '', text)\n",
    "    # Convert text to lowercase\n",
    "    text = text.lower()\n",
    "    return text\n",
    "\n",
    "def tokenize(text):\n",
    "    return word_tokenize(text)\n",
    "\n",
    "def remove_stopwords(tokens):\n",
    "    stop_words = set(stopwords.words('english'))\n",
    "    return [token for token in tokens if token not in stop_words]\n",
    "\n",
    "def preprocess_text(text):\n",
    "    cleaned_text = clean_text(text)\n",
    "    tokens = tokenize(cleaned_text)\n",
    "    tokens = remove_stopwords(tokens)\n",
    "    return ' '.join(tokens)\n",
    "\n",
    "def main():\n",
    "    # Load the dataset\n",
    "    data = pd.read_csv('reduced_test.csv')\n",
    "\n",
    "    # Output file paths\n",
    "    input_file_path = 'input1.txt'\n",
    "    output_file_path = 'output2.txt'\n",
    "\n",
    "    # Save the input data to input.txt\n",
    "    with open(input_file_path, 'w', encoding='utf-8') as input_file:\n",
    "        for article in tqdm(data['article'], desc=\"Writing input data\"):\n",
    "            input_file.write(article + '\\n\\n')\n",
    "\n",
    "    # Process and save the cleaned data to output.txt\n",
    "    with open(output_file_path, 'w', encoding='utf-8') as output_file:\n",
    "        for article in tqdm(data['article'], desc=\"Processing and writing cleaned data\"):\n",
    "            cleaned_text = preprocess_text(article)\n",
    "            output_file.write(cleaned_text + '\\n\\n')\n",
    "\n",
    "    print(\"Processing completed. Input text saved to 'input.txt' and cleaned text saved to 'output.txt'.\")\n",
    "\n",
    "if __name__ == \"__main__\":\n",
    "    main()\n"
   ]
  },
  {
   "cell_type": "code",
   "execution_count": null,
   "id": "a3dab639-9155-463f-a344-4928c06b7752",
   "metadata": {},
   "outputs": [],
   "source": []
  },
  {
   "cell_type": "code",
   "execution_count": null,
   "id": "cf90d5b6-0b35-49c5-b6a7-0e6db5a06eaf",
   "metadata": {},
   "outputs": [],
   "source": []
  }
 ],
 "metadata": {
  "kernelspec": {
   "display_name": "Python 3 (ipykernel)",
   "language": "python",
   "name": "python3"
  },
  "language_info": {
   "codemirror_mode": {
    "name": "ipython",
    "version": 3
   },
   "file_extension": ".py",
   "mimetype": "text/x-python",
   "name": "python",
   "nbconvert_exporter": "python",
   "pygments_lexer": "ipython3",
   "version": "3.12.3"
  }
 },
 "nbformat": 4,
 "nbformat_minor": 5
}
