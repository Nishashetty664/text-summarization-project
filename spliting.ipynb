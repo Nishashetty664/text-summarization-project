{
 "cells": [
  {
   "cell_type": "code",
   "execution_count": 1,
   "id": "2266ece5-a044-4680-9fcf-b61a8881c728",
   "metadata": {},
   "outputs": [
    {
     "name": "stdout",
     "output_type": "stream",
     "text": [
      "Data split completed and saved as train_data.csv, validate_data.csv, and test_data.csv.\n"
     ]
    }
   ],
   "source": [
    "import pandas as pd\n",
    "from sklearn.model_selection import train_test_split\n",
    "\n",
    "# Load the preprocessed dataset\n",
    "data = pd.read_csv('output2.txt', delimiter='\\t')\n",
    "\n",
    "# Split the data: 70% train, 15% validate, 15% test\n",
    "train_data, temp_data = train_test_split(data, test_size=0.3, random_state=42)\n",
    "validate_data, test_data = train_test_split(temp_data, test_size=0.5, random_state=42)\n",
    "\n",
    "# Save the splits to CSV files\n",
    "train_data.to_csv('train_data.csv', index=False)\n",
    "validate_data.to_csv('validate_data.csv', index=False)\n",
    "test_data.to_csv('test_data.csv', index=False)\n",
    "\n",
    "print(\"Data split completed and saved as train_data.csv, validate_data.csv, and test_data.csv.\")\n"
   ]
  },
  {
   "cell_type": "code",
   "execution_count": 2,
   "id": "1a95f251-45e6-44d8-9aa0-9c19ae87c24a",
   "metadata": {},
   "outputs": [
    {
     "name": "stdout",
     "output_type": "stream",
     "text": [
      "Overlap between train and validate: 0\n",
      "Overlap between train and test: 0\n",
      "Overlap between validate and test: 0\n",
      "No overlaps found between train, validate, and test datasets.\n"
     ]
    }
   ],
   "source": [
    "import pandas as pd\n",
    "from sklearn.model_selection import train_test_split\n",
    "\n",
    "# Load the preprocessed dataset\n",
    "data = pd.read_csv('output2.txt', delimiter='\\t')\n",
    "\n",
    "# Add a unique identifier column\n",
    "data['id'] = range(len(data))\n",
    "\n",
    "# Split the data: 70% train, 15% validate, 15% test\n",
    "train_data, temp_data = train_test_split(data, test_size=0.3, random_state=42)\n",
    "validate_data, test_data = train_test_split(temp_data, test_size=0.5, random_state=42)\n",
    "\n",
    "# Save the splits to CSV files\n",
    "train_data.to_csv('train_data.csv', index=False)\n",
    "validate_data.to_csv('validate_data.csv', index=False)\n",
    "test_data.to_csv('test_data.csv', index=False)\n",
    "\n",
    "# Verify no overlap between datasets using the 'id' column\n",
    "train_ids = set(train_data['id'])\n",
    "validate_ids = set(validate_data['id'])\n",
    "test_ids = set(test_data['id'])\n",
    "\n",
    "overlap_train_validate = train_ids & validate_ids\n",
    "overlap_train_test = train_ids & test_ids\n",
    "overlap_validate_test = validate_ids & test_ids\n",
    "\n",
    "print(f\"Overlap between train and validate: {len(overlap_train_validate)}\")\n",
    "print(f\"Overlap between train and test: {len(overlap_train_test)}\")\n",
    "print(f\"Overlap between validate and test: {len(overlap_validate_test)}\")\n",
    "\n",
    "if len(overlap_train_validate) == 0 and len(overlap_train_test) == 0 and len(overlap_validate_test) == 0:\n",
    "    print(\"No overlaps found between train, validate, and test datasets.\")\n",
    "else:\n",
    "    print(\"Overlaps found, please check the data splitting logic.\")\n"
   ]
  },
  {
   "cell_type": "code",
   "execution_count": null,
   "id": "18708170-f5ae-4f9f-a907-bcced7776c7f",
   "metadata": {},
   "outputs": [],
   "source": []
  }
 ],
 "metadata": {
  "kernelspec": {
   "display_name": "Python 3 (ipykernel)",
   "language": "python",
   "name": "python3"
  },
  "language_info": {
   "codemirror_mode": {
    "name": "ipython",
    "version": 3
   },
   "file_extension": ".py",
   "mimetype": "text/x-python",
   "name": "python",
   "nbconvert_exporter": "python",
   "pygments_lexer": "ipython3",
   "version": "3.12.3"
  }
 },
 "nbformat": 4,
 "nbformat_minor": 5
}
